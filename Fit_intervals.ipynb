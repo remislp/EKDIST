{
 "cells": [
  {
   "cell_type": "markdown",
   "metadata": {},
   "source": [
    "# General settings"
   ]
  },
  {
   "cell_type": "code",
   "execution_count": 1,
   "metadata": {},
   "outputs": [],
   "source": [
    "import sys\n",
    "import math\n",
    "from scipy.optimize import minimize, bisect\n",
    "import numpy as np\n",
    "from numpy import linalg as nplin"
   ]
  },
  {
   "cell_type": "code",
   "execution_count": 2,
   "metadata": {},
   "outputs": [],
   "source": [
    "from ekdist import eklib"
   ]
  },
  {
   "cell_type": "code",
   "execution_count": 3,
   "metadata": {},
   "outputs": [],
   "source": [
    "# LOAD DATA.\n",
    "filename = \"./tests/intervals.txt\"\n",
    "intervals = np.loadtxt(filename)"
   ]
  },
  {
   "cell_type": "markdown",
   "metadata": {},
   "source": [
    "## Fit multi-exponential pdf"
   ]
  },
  {
   "cell_type": "code",
   "execution_count": 4,
   "metadata": {},
   "outputs": [
    {
     "name": "stdout",
     "output_type": "stream",
     "text": [
      "Start LogLikelihood = 87.31806715582867\n"
     ]
    }
   ],
   "source": [
    "theta = [0.036, 1.1, 0.20]\n",
    "print('Start LogLikelihood =', eklib.LLexp(theta, np.array(intervals)))"
   ]
  },
  {
   "cell_type": "code",
   "execution_count": 5,
   "metadata": {
    "scrolled": false
   },
   "outputs": [
    {
     "name": "stdout",
     "output_type": "stream",
     "text": [
      " final_simplex: (array([[0.03700718, 1.07302608, 0.19874548],\n",
      "       [0.03701042, 1.07300003, 0.19879291],\n",
      "       [0.03701506, 1.07312038, 0.19880849],\n",
      "       [0.03700726, 1.07309781, 0.19883809]]), array([87.28828773, 87.28828814, 87.28828846, 87.28828878]))\n",
      "           fun: 87.28828773327726\n",
      "       message: 'Optimization terminated successfully.'\n",
      "          nfev: 88\n",
      "           nit: 47\n",
      "        status: 0\n",
      "       success: True\n",
      "             x: array([0.03700718, 1.07302608, 0.19874548])\n"
     ]
    }
   ],
   "source": [
    "res = minimize(eklib.LLexp, theta, args=np.array(intervals), method='Nelder-Mead')\n",
    "print (res)"
   ]
  },
  {
   "cell_type": "markdown",
   "metadata": {
    "collapsed": true
   },
   "source": [
    "### Calculate approximate SD"
   ]
  },
  {
   "cell_type": "code",
   "execution_count": 6,
   "metadata": {},
   "outputs": [
    {
     "name": "stdout",
     "output_type": "stream",
     "text": [
      "[[8475.49606292  -92.21425006 -626.06648917]\n",
      " [ -92.21425006   71.5478832   -36.17166531]\n",
      " [-626.06648917  -36.17166531  501.13966047]]\n"
     ]
    }
   ],
   "source": [
    "hess = eklib.hessian(res.x, eklib.LLexp, np.array(intervals))\n",
    "print(hess)"
   ]
  },
  {
   "cell_type": "code",
   "execution_count": 7,
   "metadata": {},
   "outputs": [
    {
     "name": "stdout",
     "output_type": "stream",
     "text": [
      "[[0.00013478 0.00026864 0.00018777]\n",
      " [0.00026864 0.01504143 0.00142128]\n",
      " [0.00018777 0.00142128 0.00233261]]\n"
     ]
    }
   ],
   "source": [
    "cov = nplin.inv(hess)\n",
    "print(cov)"
   ]
  },
  {
   "cell_type": "code",
   "execution_count": 8,
   "metadata": {},
   "outputs": [
    {
     "name": "stdout",
     "output_type": "stream",
     "text": [
      "[0.01160948 0.1226435  0.04829715]\n"
     ]
    }
   ],
   "source": [
    "appSD = np.sqrt(cov.diagonal())\n",
    "print(appSD)"
   ]
  },
  {
   "cell_type": "code",
   "execution_count": 9,
   "metadata": {},
   "outputs": [
    {
     "data": {
      "text/plain": [
       "array([[1.        , 0.18867387, 0.33487997],\n",
       "       [0.18867387, 1.        , 0.23994593],\n",
       "       [0.33487997, 0.23994593, 1.        ]])"
      ]
     },
     "execution_count": 9,
     "metadata": {},
     "output_type": "execute_result"
    }
   ],
   "source": [
    "eklib.correlation_matrix(cov)"
   ]
  },
  {
   "cell_type": "code",
   "execution_count": 10,
   "metadata": {},
   "outputs": [
    {
     "name": "stdout",
     "output_type": "stream",
     "text": [
      "Tau = 0.037007; approximate SD = 0.011609\n",
      "Area= 0.198745; approximate SD = 0.048297\n",
      "Tau = 1.073026; approximate SD = 0.122644\n",
      "Area= 0.801255; approximate SD = 0.048297\n"
     ]
    }
   ],
   "source": [
    "sd = eklib.approximate_SD(res.x, eklib.LLexp, np.array(intervals))"
   ]
  },
  {
   "cell_type": "code",
   "execution_count": null,
   "metadata": {},
   "outputs": [],
   "source": []
  }
 ],
 "metadata": {
  "kernelspec": {
   "display_name": "Python 3",
   "language": "python",
   "name": "python3"
  },
  "language_info": {
   "codemirror_mode": {
    "name": "ipython",
    "version": 3
   },
   "file_extension": ".py",
   "mimetype": "text/x-python",
   "name": "python",
   "nbconvert_exporter": "python",
   "pygments_lexer": "ipython3",
   "version": "3.6.6"
  }
 },
 "nbformat": 4,
 "nbformat_minor": 1
}
