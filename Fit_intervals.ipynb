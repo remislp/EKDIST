{
 "cells": [
  {
   "cell_type": "markdown",
   "metadata": {},
   "source": [
    "# General settings"
   ]
  },
  {
   "cell_type": "code",
   "execution_count": 1,
   "metadata": {},
   "outputs": [],
   "source": [
    "import sys\n",
    "import math\n",
    "from scipy.optimize import minimize, bisect\n",
    "import numpy as np\n",
    "from numpy import linalg as nplin"
   ]
  },
  {
   "cell_type": "code",
   "execution_count": 2,
   "metadata": {},
   "outputs": [],
   "source": [
    "from ekdist import exponentials\n",
    "from ekdist import ekplot"
   ]
  },
  {
   "cell_type": "code",
   "execution_count": 3,
   "metadata": {},
   "outputs": [],
   "source": [
    "# LOAD DATA.\n",
    "filename = \"./tests/intervals.txt\"\n",
    "intervals = np.loadtxt(filename)"
   ]
  },
  {
   "cell_type": "markdown",
   "metadata": {},
   "source": [
    "## Fit multi-exponential pdf"
   ]
  },
  {
   "cell_type": "code",
   "execution_count": 4,
   "metadata": {},
   "outputs": [
    {
     "name": "stdout",
     "output_type": "stream",
     "text": [
      "Start LogLikelihood = 87.31806715582867\n"
     ]
    }
   ],
   "source": [
    "tau, area = [0.036, 1.1], [0.2]\n",
    "epdf = exponentials.ExponentialPDF(tau, area)\n",
    "print('Start LogLikelihood =', epdf.LL(epdf.theta, intervals))"
   ]
  },
  {
   "cell_type": "code",
   "execution_count": 5,
   "metadata": {
    "scrolled": false
   },
   "outputs": [
    {
     "name": "stdout",
     "output_type": "stream",
     "text": [
      " final_simplex: (array([[0.03700718, 1.07302608, 0.19874548],\n",
      "       [0.03701042, 1.07300003, 0.19879291],\n",
      "       [0.03701506, 1.07312038, 0.19880849],\n",
      "       [0.03700726, 1.07309781, 0.19883809]]), array([87.28828773, 87.28828814, 87.28828846, 87.28828878]))\n",
      "           fun: 87.28828773327726\n",
      "       message: 'Optimization terminated successfully.'\n",
      "          nfev: 88\n",
      "           nit: 47\n",
      "        status: 0\n",
      "       success: True\n",
      "             x: array([0.03700718, 1.07302608, 0.19874548])\n"
     ]
    }
   ],
   "source": [
    "res = minimize(epdf.LL, epdf.theta, args=intervals, method='Nelder-Mead')\n",
    "print (res)"
   ]
  },
  {
   "cell_type": "code",
   "execution_count": 6,
   "metadata": {},
   "outputs": [
    {
     "data": {
      "image/png": "[encoded data removed]",
      "text/plain": [
       "<Figure size 216x216 with 1 Axes>"
      ]
     },
     "metadata": {
      "needs_background": "light"
     },
     "output_type": "display_data"
    }
   ],
   "source": [
    "tres = 1e-4\n",
    "fig = ekplot.histogram_xlog_ysqrt_data(intervals, tres, pdf=epdf, xlabel='Dwell times')"
   ]
  },
  {
   "cell_type": "markdown",
   "metadata": {},
   "source": [
    "### Calculate tcrit"
   ]
  },
  {
   "cell_type": "code",
   "execution_count": 7,
   "metadata": {},
   "outputs": [
    {
     "name": "stdout",
     "output_type": "stream",
     "text": [
      "\n",
      "Equal % misclassified (DC criterion)\n",
      "Critical time between components 1 and 2\n",
      "tcrit = 92.353 ms\n",
      "% misclassified: short = 8.247; long = 8.247\n",
      "# misclassified (out of 100): short = 1.6394; long = 6.6075\n",
      "Total # misclassified (out of 100) = 8.247\n",
      "\n",
      "Equal # misclassified (Clapham & Neher criterion)\n",
      "Critical time between components 1 and 2\n",
      "tcrit = 57.628 ms\n",
      "% misclassified: short = 21.075; long = 5.2291\n",
      "# misclassified (out of 100): short = 4.1896; long = 4.1896\n",
      "Total # misclassified (out of 100) = 8.3791\n",
      "\n",
      "Minimum total # misclassified (Jackson et al criterion)\n",
      "Critical time between components 1 and 2\n",
      "tcrit = 75.636 ms\n",
      "% misclassified: short = 12.956; long = 6.8063\n",
      "# misclassified (out of 100): short = 2.5755; long = 5.4533\n",
      "Total # misclassified (out of 100) = 8.0288\n",
      "\n",
      "SUMMARY of tcrit values (in ms):\n",
      "Components\t\tDC\t\tC&N\t\tJackson\n",
      "1 to 2 \t\t\t92.353\t\t57.628\t\t75.636\n"
     ]
    }
   ],
   "source": [
    "epdf.get_tcrits(verbose=True)"
   ]
  },
  {
   "cell_type": "code",
   "execution_count": 8,
   "metadata": {},
   "outputs": [
    {
     "data": {
      "image/png": "[encoded data removed]",
      "text/plain": [
       "<Figure size 216x216 with 1 Axes>"
      ]
     },
     "metadata": {
      "needs_background": "light"
     },
     "output_type": "display_data"
    }
   ],
   "source": [
    "fig = ekplot.histogram_xlog_ysqrt_data(intervals, tres, epdf, \n",
    "                                       tcrit=epdf.tcrits['Jackson'], xlabel='Dwell times')"
   ]
  },
  {
   "cell_type": "markdown",
   "metadata": {
    "collapsed": true
   },
   "source": [
    "### Calculate approximate SD"
   ]
  },
  {
   "cell_type": "code",
   "execution_count": 9,
   "metadata": {},
   "outputs": [],
   "source": [
    "from ekdist import errors\n",
    "asd = errors.ApproximateSD(res.x, epdf.LL, np.array(intervals))"
   ]
  },
  {
   "cell_type": "code",
   "execution_count": 10,
   "metadata": {},
   "outputs": [
    {
     "name": "stdout",
     "output_type": "stream",
     "text": [
      "[[8475.49606292  -92.21425006 -626.06648917]\n",
      " [ -92.21425006   71.5478832   -36.17166531]\n",
      " [-626.06648917  -36.17166531  501.13966047]]\n"
     ]
    }
   ],
   "source": [
    "print(asd.hessian)"
   ]
  },
  {
   "cell_type": "code",
   "execution_count": 11,
   "metadata": {},
   "outputs": [
    {
     "name": "stdout",
     "output_type": "stream",
     "text": [
      "[[0.00013478 0.00026864 0.00018777]\n",
      " [0.00026864 0.01504143 0.00142128]\n",
      " [0.00018777 0.00142128 0.00233261]]\n"
     ]
    }
   ],
   "source": [
    "print(asd.covariance)"
   ]
  },
  {
   "cell_type": "code",
   "execution_count": 12,
   "metadata": {},
   "outputs": [
    {
     "name": "stdout",
     "output_type": "stream",
     "text": [
      "[0.01160948 0.1226435  0.04829715]\n"
     ]
    }
   ],
   "source": [
    "print(asd.sd)"
   ]
  },
  {
   "cell_type": "code",
   "execution_count": 13,
   "metadata": {},
   "outputs": [
    {
     "name": "stdout",
     "output_type": "stream",
     "text": [
      "[[1.         0.18867387 0.33487997]\n",
      " [0.18867387 1.         0.23994593]\n",
      " [0.33487997 0.23994593 1.        ]]\n"
     ]
    }
   ],
   "source": [
    "print(asd.correlations)"
   ]
  },
  {
   "cell_type": "markdown",
   "metadata": {},
   "source": [
    "### Calculate likelihood intervals"
   ]
  },
  {
   "cell_type": "code",
   "execution_count": 14,
   "metadata": {},
   "outputs": [
    {
     "name": "stdout",
     "output_type": "stream",
     "text": [
      "calculating likelihood intervals...\n",
      "\n",
      "Calculating Lik limits for parameter- tau = 0.037\n",
      "\tInitial guesses for lower limit: 0.000 and 0.037\n",
      "\tInitial guesses for higher limit: 0.037 and 0.153\n",
      "lower limit found:  0.019226384311366168\n",
      "higher limit found:  0.07101933263063774\n",
      "\n",
      "Calculating Lik limits for parameter- tau = 1.073\n",
      "\tInitial guesses for lower limit: 0.582 and 1.073\n",
      "\tInitial guesses for higher limit: 1.073 and 2.299\n",
      "lower limit found:  0.8583999525995726\n",
      "higher limit found:  1.3892163638906025\n",
      "\n",
      "Calculating Lik limits for parameter- area = 0.199\n",
      "\tInitial guesses for lower limit: 0.006 and 0.199\n",
      "\tInitial guesses for higher limit: 0.199 and 0.682\n",
      "lower limit found:  0.10969760281850571\n",
      "higher limit found:  0.3020372371637748\n",
      "... finished calculating likelihood intervals.\n"
     ]
    },
    {
     "data": {
      "text/plain": [
       "[[0.019226384311366168, 0.07101933263063774],\n",
       " [0.8583999525995726, 1.3892163638906025],\n",
       " [0.10969760281850571, 0.3020372371637748]]"
      ]
     },
     "execution_count": 14,
     "metadata": {},
     "output_type": "execute_result"
    }
   ],
   "source": [
    "m = 2.0 # corresponds roughly to 2 SD\n",
    "likints = errors.LikelihoodIntervals(res.x, epdf, np.array(intervals), asd.sd, m)\n",
    "likints.calculate()"
   ]
  }
 ],
 "metadata": {
  "kernelspec": {
   "display_name": "Python 3",
   "language": "python",
   "name": "python3"
  },
  "language_info": {
   "codemirror_mode": {
    "name": "ipython",
    "version": 3
   },
   "file_extension": ".py",
   "mimetype": "text/x-python",
   "name": "python",
   "nbconvert_exporter": "python",
   "pygments_lexer": "ipython3",
   "version": "3.6.6"
  }
 },
 "nbformat": 4,
 "nbformat_minor": 1
}
